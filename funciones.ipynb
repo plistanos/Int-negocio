{
 "cells": [
  {
   "cell_type": "code",
   "execution_count": 2,
   "metadata": {},
   "outputs": [],
   "source": [
    "import pandas as pd\n",
    "import numpy as np\n",
    "import utility as ut\n",
    "import os\n"
   ]
  },
  {
   "cell_type": "code",
   "execution_count": 21,
   "metadata": {},
   "outputs": [
    {
     "name": "stdout",
     "output_type": "stream",
     "text": [
      "{0: {0: 4.0, 1: 50.0, 2: 256.0, 3: 3.0, 4: 40.0, 5: 10.0, 6: 3.0, 7: 0.8, 8: 32.0, 9: 0.1, 10: 0.8, 11: 50.0}}\n"
     ]
    }
   ],
   "source": [
    "# My Utility : auxiliars functions\n",
    "\n",
    "import pandas as pd\n",
    "import numpy  as np\n",
    "  \n",
    "#load parameters to train the SNN\n",
    "def load_cnf():\n",
    "    # Leer el archivo excel cnf\n",
    "    cnf = pd.read_csv('cnf.csv',header=None)\n",
    "    #Convertir lo leido en un diccionario\n",
    "    diccionario = cnf.to_dict()\n",
    "    return(diccionario)\n",
    "\n",
    "Param = load_cnf()\n",
    "nroClases       = Param[0][0]\n",
    "nroFrame        = Param[0][1]\n",
    "tamanoFuente    = Param[0][2]\n",
    "nivelDesc       = Param[0][3]\n",
    "nOcultosCapa1   = Param[0][4]\n",
    "nOcultosCapa2   = Param[0][5]\n",
    "actOculta       = Param[0][6]\n",
    "prTraining      = Param[0][7]\n",
    "tminiBatch      = Param[0][8]\n",
    "tasaAp          = Param[0][9]\n",
    "beta            = Param[0][10]\n",
    "max_iterations  = Param[0][11]"
   ]
  },
  {
   "cell_type": "code",
   "execution_count": 28,
   "metadata": {},
   "outputs": [],
   "source": [
    "def load_data(nombreData):\n",
    "    ruta = './data/%s' %nombreData\n",
    "    archivos = os.listdir(ruta)\n",
    "    matrices = {}\n",
    "    for indice,archivo in enumerate(archivos):\n",
    "        if archivo.endswith('.csv'):\n",
    "            ruta_archivo = os.path.join(ruta,archivo)\n",
    "            df = pd.read_csv(ruta_archivo,header=None)\n",
    "            matrices[indice]=df\n",
    "    return(matrices) "
   ]
  },
  {
   "cell_type": "code",
   "execution_count": 35,
   "metadata": {},
   "outputs": [
    {
     "name": "stdout",
     "output_type": "stream",
     "text": [
      "              0        1         2         3\n",
      "0       0.36816  0.35401 -0.122320 -0.691330\n",
      "1       0.37141  1.98830 -0.588130  0.038276\n",
      "2       0.33787 -0.59452  0.387440  0.067875\n",
      "3       0.88635  0.62943 -0.637310 -0.019083\n",
      "4       0.72458  1.04140 -0.540480  0.143890\n",
      "...         ...      ...       ...       ...\n",
      "119995  0.25997 -0.95380 -0.017413  0.211740\n",
      "119996 -1.37820 -0.28896 -0.065355 -0.010585\n",
      "119997  0.14688 -0.33363 -1.036700  0.076631\n",
      "119998 -0.31312  0.22101  0.513430  0.342500\n",
      "119999  0.63434 -0.42743 -0.586680  0.391520\n",
      "\n",
      "[120000 rows x 4 columns]\n"
     ]
    }
   ],
   "source": [
    "data = load_data('Data' + str(int(nroClases)))\n",
    "print(data[3])"
   ]
  },
  {
   "cell_type": "code",
   "execution_count": 12,
   "metadata": {},
   "outputs": [],
   "source": [
    "def main():        \n",
    "    Param           = ut.load_cnf()\t"
   ]
  }
 ],
 "metadata": {
  "kernelspec": {
   "display_name": "Python 3",
   "language": "python",
   "name": "python3"
  },
  "language_info": {
   "codemirror_mode": {
    "name": "ipython",
    "version": 3
   },
   "file_extension": ".py",
   "mimetype": "text/x-python",
   "name": "python",
   "nbconvert_exporter": "python",
   "pygments_lexer": "ipython3",
   "version": "3.10.10"
  },
  "orig_nbformat": 4
 },
 "nbformat": 4,
 "nbformat_minor": 2
}
